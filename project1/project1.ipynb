{
 "nbformat": 4,
 "nbformat_minor": 2,
 "metadata": {
  "language_info": {
   "name": "python",
   "codemirror_mode": {
    "name": "ipython",
    "version": 3
   },
   "version": "3.8.5-final"
  },
  "orig_nbformat": 2,
  "file_extension": ".py",
  "mimetype": "text/x-python",
  "name": "python",
  "npconvert_exporter": "python",
  "pygments_lexer": "ipython3",
  "version": 3,
  "kernelspec": {
   "name": "python38564bitcs238conda49e56a5a2bde4519aa94ea1e85b7818b",
   "display_name": "Python 3.8.5 64-bit ('cs238': conda)"
  }
 },
 "cells": [
  {
   "cell_type": "code",
   "execution_count": 1,
   "metadata": {},
   "outputs": [],
   "source": [
    "import sys\n",
    "import pandas as pd\n",
    "import numpy as np\n",
    "from scipy.special import gamma, gammaln\n",
    "import math\n",
    "from collections import defaultdict\n",
    "import itertools\n",
    "\n",
    "import networkx as nx"
   ]
  },
  {
   "cell_type": "code",
   "execution_count": 2,
   "metadata": {},
   "outputs": [],
   "source": [
    "counts = None\n",
    "variables = None\n",
    "variable_values = dict()"
   ]
  },
  {
   "cell_type": "code",
   "execution_count": 71,
   "metadata": {},
   "outputs": [
    {
     "data": {
      "text/html": "<div>\n<style scoped>\n    .dataframe tbody tr th:only-of-type {\n        vertical-align: middle;\n    }\n\n    .dataframe tbody tr th {\n        vertical-align: top;\n    }\n\n    .dataframe thead th {\n        text-align: right;\n    }\n</style>\n<table border=\"1\" class=\"dataframe\">\n  <thead>\n    <tr style=\"text-align: right;\">\n      <th></th>\n      <th>age</th>\n      <th>portembarked</th>\n      <th>fare</th>\n      <th>numparentschildren</th>\n      <th>passengerclass</th>\n      <th>sex</th>\n      <th>numsiblings</th>\n      <th>survived</th>\n    </tr>\n  </thead>\n  <tbody>\n    <tr>\n      <th>0</th>\n      <td>1</td>\n      <td>1</td>\n      <td>1</td>\n      <td>1</td>\n      <td>1</td>\n      <td>1</td>\n      <td>1</td>\n      <td>1</td>\n    </tr>\n    <tr>\n      <th>1</th>\n      <td>2</td>\n      <td>2</td>\n      <td>1</td>\n      <td>1</td>\n      <td>2</td>\n      <td>2</td>\n      <td>1</td>\n      <td>2</td>\n    </tr>\n    <tr>\n      <th>2</th>\n      <td>1</td>\n      <td>1</td>\n      <td>1</td>\n      <td>1</td>\n      <td>1</td>\n      <td>2</td>\n      <td>1</td>\n      <td>2</td>\n    </tr>\n    <tr>\n      <th>3</th>\n      <td>2</td>\n      <td>1</td>\n      <td>1</td>\n      <td>1</td>\n      <td>2</td>\n      <td>2</td>\n      <td>1</td>\n      <td>2</td>\n    </tr>\n    <tr>\n      <th>4</th>\n      <td>2</td>\n      <td>1</td>\n      <td>1</td>\n      <td>1</td>\n      <td>1</td>\n      <td>1</td>\n      <td>1</td>\n      <td>1</td>\n    </tr>\n  </tbody>\n</table>\n</div>",
      "text/plain": "   age  portembarked  fare  numparentschildren  passengerclass  sex  \\\n0    1             1     1                   1               1    1   \n1    2             2     1                   1               2    2   \n2    1             1     1                   1               1    2   \n3    2             1     1                   1               2    2   \n4    2             1     1                   1               1    1   \n\n   numsiblings  survived  \n0            1         1  \n1            1         2  \n2            1         2  \n3            1         2  \n4            1         1  "
     },
     "execution_count": 71,
     "metadata": {},
     "output_type": "execute_result"
    }
   ],
   "source": [
    "PROJ_DIR = '~/Desktop/CS 238/AA228-CS238-Student/project1/'\n",
    "D = pd.read_csv(PROJ_DIR + 'data/small.csv')\n",
    "D.head()"
   ]
  },
  {
   "cell_type": "code",
   "execution_count": 4,
   "metadata": {},
   "outputs": [],
   "source": [
    "variables = list(D.columns)\n",
    "for var in variables:\n",
    "    num_values = D[var].max()\n",
    "    variable_values[var] = num_values"
   ]
  },
  {
   "cell_type": "code",
   "execution_count": 29,
   "metadata": {},
   "outputs": [],
   "source": [
    "def random_directed_graph(p=0.2):\n",
    "    G = nx.DiGraph()\n",
    "    G.add_nodes_from(variables)\n",
    "    edges = itertools.permutations(variables, 2)\n",
    "    for e in edges:\n",
    "        if np.random.uniform() < p:\n",
    "            G.add_edge(*e)\n",
    "    return G"
   ]
  },
  {
   "cell_type": "code",
   "execution_count": 14,
   "metadata": {},
   "outputs": [],
   "source": [
    "def is_cyclic(G):\n",
    "    try: \n",
    "        nx.find_cycle(G, orientation='original')\n",
    "    except nx.exception.NetworkXNoCycle:\n",
    "        return False\n",
    "    \n",
    "    return True"
   ]
  },
  {
   "cell_type": "code",
   "execution_count": 30,
   "metadata": {},
   "outputs": [
    {
     "data": {
      "image/png": "[encoded data removed]",
      "image/svg+xml": "<?xml version=\"1.0\" encoding=\"utf-8\" standalone=\"no\"?>\n<!DOCTYPE svg PUBLIC \"-//W3C//DTD SVG 1.1//EN\"\n  \"http://www.w3.org/Graphics/SVG/1.1/DTD/svg11.dtd\">\n<!-- Created with matplotlib (https://matplotlib.org/) -->\n<svg height=\"302.4pt\" version=\"1.1\" viewBox=\"0 0 446.4 302.4\" width=\"446.4pt\" xmlns=\"http://www.w3.org/2000/svg\" xmlns:xlink=\"http://www.w3.org/1999/xlink\">\n <metadata>\n  <rdf:RDF xmlns:cc=\"http://creativecommons.org/ns#\" xmlns:dc=\"http://purl.org/dc/elements/1.1/\" xmlns:rdf=\"http://www.w3.org/1999/02/22-rdf-syntax-ns#\">\n   <cc:Work>\n    <dc:type rdf:resource=\"http://purl.org/dc/dcmitype/StillImage\"/>\n    <dc:date>2020-10-09T23:40:46.685779</dc:date>\n    <dc:format>image/svg+xml</dc:format>\n    <dc:creator>\n     <cc:Agent>\n      <dc:title>Matplotlib v3.3.1, https://matplotlib.org/</dc:title>\n     </cc:Agent>\n    </dc:creator>\n   </cc:Work>\n  </rdf:RDF>\n </metadata>\n <defs>\n  <style type=\"text/css\">*{stroke-linecap:butt;stroke-linejoin:round;}</style>\n </defs>\n <g id=\"figure_1\">\n  <g id=\"patch_1\">\n   <path d=\"M 0 302.4 \nL 446.4 302.4 \nL 446.4 0 \nL 0 0 \nz\n\" style=\"fill:#ffffff;\"/>\n  </g>\n  <g id=\"axes_1\">\n   <g id=\"patch_2\">\n    <path clip-path=\"url(#p446be9de92)\" d=\"M 323.011315 257.491417 \nQ 324.997052 263.470661 326.630408 268.388855 \n\" style=\"fill:none;stroke:#000000;stroke-linecap:round;\"/>\n    <path clip-path=\"url(#p446be9de92)\" d=\"M 327.26776 263.962368 \nL 326.630408 268.388855 \nL 323.47163 265.223082 \nL 327.26776 263.962368 \nz\n\" style=\"stroke:#000000;stroke-linecap:round;\"/>\n   </g>\n   <g id=\"patch_3\">\n    <path clip-path=\"url(#p446be9de92)\" d=\"M 261.553445 215.7289 \nQ 328.726684 203.102132 394.801134 190.681907 \n\" style=\"fill:none;stroke:#000000;stroke-linecap:round;\"/>\n    <path clip-path=\"url(#p446be9de92)\" d=\"M 390.500507 189.455282 \nL 394.801134 190.681907 \nL 391.239458 193.386434 \nL 390.500507 189.455282 \nz\n\" style=\"stroke:#000000;stroke-linecap:round;\"/>\n   </g>\n   <g id=\"patch_4\">\n    <path clip-path=\"url(#p446be9de92)\" d=\"M 244.531096 218.962301 \nQ 177.233396 231.878668 111.033689 244.584299 \n\" style=\"fill:none;stroke:#000000;stroke-linecap:round;\"/>\n    <path clip-path=\"url(#p446be9de92)\" d=\"M 115.338968 245.794496 \nL 111.033689 244.584299 \nL 114.585014 241.866194 \nL 115.338968 245.794496 \nz\n\" style=\"stroke:#000000;stroke-linecap:round;\"/>\n   </g>\n   <g id=\"patch_5\">\n    <path clip-path=\"url(#p446be9de92)\" d=\"M 147.478073 220.055083 \nQ 128.214463 231.08815 109.921029 241.565556 \n\" style=\"fill:none;stroke:#000000;stroke-linecap:round;\"/>\n    <path clip-path=\"url(#p446be9de92)\" d=\"M 114.386032 241.31307 \nL 109.921029 241.565556 \nL 112.398042 237.842062 \nL 114.386032 241.31307 \nz\n\" style=\"stroke:#000000;stroke-linecap:round;\"/>\n   </g>\n   <g id=\"PathCollection_1\">\n    <defs>\n     <path d=\"M 0 8.660254 \nC 2.296726 8.660254 4.499694 7.747755 6.123724 6.123724 \nC 7.747755 4.499694 8.660254 2.296726 8.660254 0 \nC 8.660254 -2.296726 7.747755 -4.499694 6.123724 -6.123724 \nC 4.499694 -7.747755 2.296726 -8.660254 0 -8.660254 \nC -2.296726 -8.660254 -4.499694 -7.747755 -6.123724 -6.123724 \nC -7.747755 -4.499694 -8.660254 -2.296726 -8.660254 0 \nC -8.660254 2.296726 -7.747755 4.499694 -6.123724 6.123724 \nC -4.499694 7.747755 -2.296726 8.660254 0 8.660254 \nz\n\" id=\"m74e0091915\" style=\"stroke:#1f78b4;\"/>\n    </defs>\n    <g clip-path=\"url(#p446be9de92)\">\n     <use style=\"fill:#1f78b4;stroke:#1f78b4;\" x=\"320.281794\" xlink:href=\"#m74e0091915\" y=\"249.272569\"/>\n     <use style=\"fill:#1f78b4;stroke:#1f78b4;\" x=\"253.039523\" xlink:href=\"#m74e0091915\" y=\"217.329289\"/>\n     <use style=\"fill:#1f78b4;stroke:#1f78b4;\" x=\"404.414565\" xlink:href=\"#m74e0091915\" y=\"188.87484\"/>\n     <use style=\"fill:#1f78b4;stroke:#1f78b4;\" x=\"206.200908\" xlink:href=\"#m74e0091915\" y=\"20.290909\"/>\n     <use style=\"fill:#1f78b4;stroke:#1f78b4;\" x=\"26.836364\" xlink:href=\"#m74e0091915\" y=\"148.701197\"/>\n     <use style=\"fill:#1f78b4;stroke:#1f78b4;\" x=\"154.993678\" xlink:href=\"#m74e0091915\" y=\"215.750585\"/>\n     <use style=\"fill:#1f78b4;stroke:#1f78b4;\" x=\"101.433141\" xlink:href=\"#m74e0091915\" y=\"246.426921\"/>\n     <use style=\"fill:#1f78b4;stroke:#1f78b4;\" x=\"329.712512\" xlink:href=\"#m74e0091915\" y=\"277.669365\"/>\n    </g>\n   </g>\n  </g>\n </g>\n <defs>\n  <clipPath id=\"p446be9de92\">\n   <rect height=\"288\" width=\"432\" x=\"7.2\" y=\"7.2\"/>\n  </clipPath>\n </defs>\n</svg>\n",
      "text/plain": "<Figure size 432x288 with 1 Axes>"
     },
     "metadata": {},
     "output_type": "display_data"
    }
   ],
   "source": [
    "G = random_directed_graph()\n",
    "while is_cyclic(G):\n",
    "    G = random_directed_graph()\n",
    "nx.draw(G)"
   ]
  },
  {
   "cell_type": "code",
   "execution_count": 31,
   "metadata": {},
   "outputs": [],
   "source": [
    "def populate_counts(G, D):\n",
    "    # because gamma(1)/gamma(1) = 1, and log 1 = 0, \n",
    "    # we don't need to care about the \"missing\" instantiations because they amount to 0 in the bayesian score\n",
    "\n",
    "    n = len(variables)\n",
    "    counts = dict()\n",
    "    for index, row in D.iterrows():\n",
    "        for i in range(n):\n",
    "            i = i   \n",
    "            var_name = variables[i]\n",
    "            parents = [var_name_ for var_name_ in G.predecessors(var_name)]\n",
    "            j = idx2dto1d(row, var_name, parents)\n",
    "            k = row[var_name]\n",
    "            if i not in counts:\n",
    "                counts[i] = dict()\n",
    "            if j not in counts[i]:\n",
    "                counts[i][j] = defaultdict(int)\n",
    "            counts[i][j][k] += 1\n",
    "    return counts"
   ]
  },
  {
   "cell_type": "code",
   "execution_count": 32,
   "metadata": {},
   "outputs": [],
   "source": [
    "def idx2dto1d(row, var_name, parents):\n",
    "    if len(parents) == 0:\n",
    "        return 0\n",
    "\n",
    "    j = []\n",
    "    shape = []\n",
    "    for var_name_ in variables:\n",
    "        if var_name_ != var_name and var_name_ in parents:\n",
    "            j.append(row[var_name_]-1)\n",
    "            shape.append(variable_values[var_name_])\n",
    "    return np.ravel_multi_index(j, tuple(shape))"
   ]
  },
  {
   "cell_type": "code",
   "execution_count": 33,
   "metadata": {},
   "outputs": [],
   "source": [
    "counts = populate_counts(G, D)\n",
    "# check if counts as a global variable is actually changed in the script code"
   ]
  },
  {
   "cell_type": "code",
   "execution_count": 52,
   "metadata": {},
   "outputs": [],
   "source": [
    "def bayesian_score(G, D):\n",
    "    # drop log P(G)\n",
    "    n = len(variables)\n",
    "    res = 0\n",
    "    for i in range(n):\n",
    "        component = 0\n",
    "        for j in counts[i]:\n",
    "            # all pseudo counts are 1\n",
    "            alpha_sum = variable_values[variables[i]]\n",
    "            m_sum = np.sum([counts[i][j][k] for k in counts[i][j]])\n",
    "            component += gammaln(alpha_sum) - gammaln(alpha_sum + m_sum)\n",
    "            for k in counts[i][j]:\n",
    "                alpha_ijk = 1 \n",
    "                m_ijk = counts[i][j][k]\n",
    "                component += gammaln(alpha_ijk + m_ijk) - gammaln(alpha_ijk)\n",
    "        res += component\n",
    "    return res"
   ]
  },
  {
   "cell_type": "code",
   "execution_count": 35,
   "metadata": {},
   "outputs": [
    {
     "name": "stdout",
     "output_type": "stream",
     "text": "-4190.424122887844\n"
    }
   ],
   "source": [
    "y = bayesian_score(G, D)\n",
    "print(y)"
   ]
  },
  {
   "cell_type": "code",
   "execution_count": 53,
   "metadata": {},
   "outputs": [],
   "source": [
    "def rand_graph_neighbor(G):\n",
    "    nodes = list(G.nodes)\n",
    "    edges = list(G.edges)\n",
    "    i = np.random.randint(len(nodes))\n",
    "    j = (i + np.random.randint(1, len(nodes))) % len(nodes)\n",
    "    G_ = G.copy()\n",
    "    if (nodes[i], nodes[j]) in edges:\n",
    "        G_.remove_edge(nodes[i], nodes[j])\n",
    "        update_counts(G_, D, nodes[j])\n",
    "    else:\n",
    "        G_.add_edge(nodes[i], nodes[j])\n",
    "        update_counts(G_, D, nodes[j])\n",
    "    return G_"
   ]
  },
  {
   "cell_type": "code",
   "execution_count": 54,
   "metadata": {},
   "outputs": [],
   "source": [
    "def update_counts(G, D, var_name):\n",
    "    # do dynamic programming to propagate the change in parents?\n",
    "    n = len(variables)\n",
    "    parents = G.predecessors(var_name)\n",
    "    i = variables.index(var_name)\n",
    "    counts[i] = dict()\n",
    "    for index, row in D.iterrows():\n",
    "        parents = [var_name_ for var_name_ in G.predecessors(var_name)]\n",
    "        j = idx2dto1d(row, var_name, parents)\n",
    "        k = row[var_name]\n",
    "        if j not in counts[i]:\n",
    "            counts[i][j] = defaultdict(int)\n",
    "        counts[i][j][k] += 1"
   ]
  },
  {
   "cell_type": "code",
   "execution_count": 55,
   "metadata": {},
   "outputs": [
    {
     "data": {
      "image/png": "[encoded data removed]",
      "image/svg+xml": "<?xml version=\"1.0\" encoding=\"utf-8\" standalone=\"no\"?>\n<!DOCTYPE svg PUBLIC \"-//W3C//DTD SVG 1.1//EN\"\n  \"http://www.w3.org/Graphics/SVG/1.1/DTD/svg11.dtd\">\n<!-- Created with matplotlib (https://matplotlib.org/) -->\n<svg height=\"302.4pt\" version=\"1.1\" viewBox=\"0 0 446.4 302.4\" width=\"446.4pt\" xmlns=\"http://www.w3.org/2000/svg\" xmlns:xlink=\"http://www.w3.org/1999/xlink\">\n <metadata>\n  <rdf:RDF xmlns:cc=\"http://creativecommons.org/ns#\" xmlns:dc=\"http://purl.org/dc/elements/1.1/\" xmlns:rdf=\"http://www.w3.org/1999/02/22-rdf-syntax-ns#\">\n   <cc:Work>\n    <dc:type rdf:resource=\"http://purl.org/dc/dcmitype/StillImage\"/>\n    <dc:date>2020-10-09T23:44:53.046559</dc:date>\n    <dc:format>image/svg+xml</dc:format>\n    <dc:creator>\n     <cc:Agent>\n      <dc:title>Matplotlib v3.3.1, https://matplotlib.org/</dc:title>\n     </cc:Agent>\n    </dc:creator>\n   </cc:Work>\n  </rdf:RDF>\n </metadata>\n <defs>\n  <style type=\"text/css\">*{stroke-linecap:butt;stroke-linejoin:round;}</style>\n </defs>\n <g id=\"figure_1\">\n  <g id=\"patch_1\">\n   <path d=\"M 0 302.4 \nL 446.4 302.4 \nL 446.4 0 \nL 0 0 \nz\n\" style=\"fill:#ffffff;\"/>\n  </g>\n  <g id=\"axes_1\">\n   <g id=\"patch_2\">\n    <path clip-path=\"url(#p29bf64fb5c)\" d=\"M 95.622956 232.617183 \nQ 99.402101 247.220896 102.901147 260.74223 \n\" style=\"fill:none;stroke:#000000;stroke-linecap:round;\"/>\n    <path clip-path=\"url(#p29bf64fb5c)\" d=\"M 103.835258 256.368737 \nL 102.901147 260.74223 \nL 99.96282 257.370845 \nL 103.835258 256.368737 \nz\n\" style=\"stroke:#000000;stroke-linecap:round;\"/>\n   </g>\n   <g id=\"patch_3\">\n    <path clip-path=\"url(#p29bf64fb5c)\" d=\"M 164.369178 114.583206 \nQ 117.111772 100.355142 70.92493 86.4494 \n\" style=\"fill:none;stroke:#000000;stroke-linecap:round;\"/>\n    <path clip-path=\"url(#p29bf64fb5c)\" d=\"M 74.178513 89.517656 \nL 70.92493 86.4494 \nL 75.331685 85.687487 \nL 74.178513 89.517656 \nz\n\" style=\"stroke:#000000;stroke-linecap:round;\"/>\n   </g>\n   <g id=\"patch_4\">\n    <path clip-path=\"url(#p29bf64fb5c)\" d=\"M 180.717122 120.254985 \nQ 217.339734 134.688773 252.922184 148.712609 \n\" style=\"fill:none;stroke:#000000;stroke-linecap:round;\"/>\n    <path clip-path=\"url(#p29bf64fb5c)\" d=\"M 249.934126 145.385221 \nL 252.922184 148.712609 \nL 248.467439 149.106623 \nL 249.934126 145.385221 \nz\n\" style=\"stroke:#000000;stroke-linecap:round;\"/>\n   </g>\n   <g id=\"patch_5\">\n    <path clip-path=\"url(#p29bf64fb5c)\" d=\"M 70.183519 82.827937 \nQ 151.789219 75.231291 232.281698 67.738275 \n\" style=\"fill:none;stroke:#000000;stroke-linecap:round;\"/>\n    <path clip-path=\"url(#p29bf64fb5c)\" d=\"M 228.11354 66.11764 \nL 232.281698 67.738275 \nL 228.484296 70.100421 \nL 228.11354 66.11764 \nz\n\" style=\"stroke:#000000;stroke-linecap:round;\"/>\n   </g>\n   <g id=\"patch_6\">\n    <path clip-path=\"url(#p29bf64fb5c)\" d=\"M 53.30675 129.23939 \nQ 108.675667 123.598018 162.932308 118.069973 \n\" style=\"fill:none;stroke:#000000;stroke-linecap:round;\"/>\n    <path clip-path=\"url(#p29bf64fb5c)\" d=\"M 158.750185 116.485723 \nL 162.932308 118.069973 \nL 159.155634 120.465121 \nL 158.750185 116.485723 \nz\n\" style=\"stroke:#000000;stroke-linecap:round;\"/>\n   </g>\n   <g id=\"patch_7\">\n    <path clip-path=\"url(#p29bf64fb5c)\" d=\"M 250.483875 64.995625 \nQ 321.868371 49.511184 392.160243 34.263751 \n\" style=\"fill:none;stroke:#000000;stroke-linecap:round;\"/>\n    <path clip-path=\"url(#p29bf64fb5c)\" d=\"M 387.82718 33.15715 \nL 392.160243 34.263751 \nL 388.675124 37.066241 \nL 387.82718 33.15715 \nz\n\" style=\"stroke:#000000;stroke-linecap:round;\"/>\n   </g>\n   <g id=\"patch_8\">\n    <path clip-path=\"url(#p29bf64fb5c)\" d=\"M 268.585886 146.65123 \nQ 331.865465 92.244722 394.297275 38.567108 \n\" style=\"fill:none;stroke:#000000;stroke-linecap:round;\"/>\n    <path clip-path=\"url(#p29bf64fb5c)\" d=\"M 389.960318 39.658346 \nL 394.297275 38.567108 \nL 392.568091 42.691416 \nL 389.960318 39.658346 \nz\n\" style=\"stroke:#000000;stroke-linecap:round;\"/>\n   </g>\n   <g id=\"patch_9\">\n    <path clip-path=\"url(#p29bf64fb5c)\" d=\"M 255.09788 157.506296 \nQ 183.684894 211.252801 113.165212 264.326992 \n\" style=\"fill:none;stroke:#000000;stroke-linecap:round;\"/>\n    <path clip-path=\"url(#p29bf64fb5c)\" d=\"M 117.563869 263.519638 \nL 113.165212 264.326992 \nL 115.158523 260.323654 \nL 117.563869 263.519638 \nz\n\" style=\"stroke:#000000;stroke-linecap:round;\"/>\n   </g>\n   <g id=\"PathCollection_1\">\n    <defs>\n     <path d=\"M 0 8.660254 \nC 2.296726 8.660254 4.499694 7.747755 6.123724 6.123724 \nC 7.747755 4.499694 8.660254 2.296726 8.660254 0 \nC 8.660254 -2.296726 7.747755 -4.499694 6.123724 -6.123724 \nC 4.499694 -7.747755 2.296726 -8.660254 0 -8.660254 \nC -2.296726 -8.660254 -4.499694 -7.747755 -6.123724 -6.123724 \nC -7.747755 -4.499694 -8.660254 -2.296726 -8.660254 0 \nC -8.660254 2.296726 -7.747755 4.499694 -6.123724 6.123724 \nC -4.499694 7.747755 -2.296726 8.660254 0 8.660254 \nz\n\" id=\"m3957a8c3f2\" style=\"stroke:#1f78b4;\"/>\n    </defs>\n    <g clip-path=\"url(#p29bf64fb5c)\">\n     <use style=\"fill:#1f78b4;stroke:#1f78b4;\" x=\"93.45404\" xlink:href=\"#m3957a8c3f2\" y=\"224.235862\"/>\n     <use style=\"fill:#1f78b4;stroke:#1f78b4;\" x=\"172.6587\" xlink:href=\"#m3957a8c3f2\" y=\"117.078981\"/>\n     <use style=\"fill:#1f78b4;stroke:#1f78b4;\" x=\"61.562161\" xlink:href=\"#m3957a8c3f2\" y=\"83.630496\"/>\n     <use style=\"fill:#1f78b4;stroke:#1f78b4;\" x=\"105.350765\" xlink:href=\"#m3957a8c3f2\" y=\"270.208264\"/>\n     <use style=\"fill:#1f78b4;stroke:#1f78b4;\" x=\"44.687603\" xlink:href=\"#m3957a8c3f2\" y=\"130.117568\"/>\n     <use style=\"fill:#1f78b4;stroke:#1f78b4;\" x=\"242.018665\" xlink:href=\"#m3957a8c3f2\" y=\"66.831864\"/>\n     <use style=\"fill:#1f78b4;stroke:#1f78b4;\" x=\"262.018553\" xlink:href=\"#m3957a8c3f2\" y=\"152.297691\"/>\n     <use style=\"fill:#1f78b4;stroke:#1f78b4;\" x=\"401.712397\" xlink:href=\"#m3957a8c3f2\" y=\"32.191736\"/>\n    </g>\n   </g>\n  </g>\n </g>\n <defs>\n  <clipPath id=\"p29bf64fb5c\">\n   <rect height=\"288\" width=\"432\" x=\"7.2\" y=\"7.2\"/>\n  </clipPath>\n </defs>\n</svg>\n",
      "text/plain": "<Figure size 432x288 with 1 Axes>"
     },
     "metadata": {},
     "output_type": "display_data"
    }
   ],
   "source": [
    "k_max = 20\n",
    "for k in range(k_max):\n",
    "    G_ = rand_graph_neighbor(G)\n",
    "    if is_cyclic(G_):\n",
    "        y_ = float('-inf')\n",
    "    else:\n",
    "        y_ = bayesian_score(G_, D)\n",
    "    if y_ > y:\n",
    "        y, G = y_, G_\n",
    "nx.draw(G)"
   ]
  },
  {
   "cell_type": "code",
   "execution_count": 68,
   "metadata": {},
   "outputs": [],
   "source": [
    "def write_gph(dag, filename):\n",
    "    with open(filename, 'w') as f:\n",
    "        for edge in dag.edges():\n",
    "            f.write(\"{}, {}\\n\".format(edge[0], edge[1]))"
   ]
  },
  {
   "cell_type": "code",
   "execution_count": 69,
   "metadata": {},
   "outputs": [
    {
     "ename": "FileNotFoundError",
     "evalue": "[Errno 2] No such file or directory: '~/Desktop/CS 238/AA228-CS238-Student/project1/small.gph'",
     "output_type": "error",
     "traceback": [
      "\u001b[0;31m---------------------------------------------------------------------------\u001b[0m",
      "\u001b[0;31mFileNotFoundError\u001b[0m                         Traceback (most recent call last)",
      "\u001b[0;32m<ipython-input-69-7770b8d3ecc6>\u001b[0m in \u001b[0;36m<module>\u001b[0;34m\u001b[0m\n\u001b[1;32m      1\u001b[0m \u001b[0moutfile\u001b[0m \u001b[0;34m=\u001b[0m \u001b[0;34m'small.gph'\u001b[0m\u001b[0;34m\u001b[0m\u001b[0;34m\u001b[0m\u001b[0m\n\u001b[0;32m----> 2\u001b[0;31m \u001b[0mwrite_gph\u001b[0m\u001b[0;34m(\u001b[0m\u001b[0mG\u001b[0m\u001b[0;34m,\u001b[0m \u001b[0mPROJ_DIR\u001b[0m \u001b[0;34m+\u001b[0m \u001b[0moutfile\u001b[0m\u001b[0;34m)\u001b[0m\u001b[0;34m\u001b[0m\u001b[0;34m\u001b[0m\u001b[0m\n\u001b[0m",
      "\u001b[0;32m<ipython-input-68-424c04bd7e5c>\u001b[0m in \u001b[0;36mwrite_gph\u001b[0;34m(dag, filename)\u001b[0m\n\u001b[1;32m      1\u001b[0m \u001b[0;32mdef\u001b[0m \u001b[0mwrite_gph\u001b[0m\u001b[0;34m(\u001b[0m\u001b[0mdag\u001b[0m\u001b[0;34m,\u001b[0m \u001b[0mfilename\u001b[0m\u001b[0;34m)\u001b[0m\u001b[0;34m:\u001b[0m\u001b[0;34m\u001b[0m\u001b[0;34m\u001b[0m\u001b[0m\n\u001b[0;32m----> 2\u001b[0;31m     \u001b[0;32mwith\u001b[0m \u001b[0mopen\u001b[0m\u001b[0;34m(\u001b[0m\u001b[0mfilename\u001b[0m\u001b[0;34m,\u001b[0m \u001b[0;34m'w'\u001b[0m\u001b[0;34m)\u001b[0m \u001b[0;32mas\u001b[0m \u001b[0mf\u001b[0m\u001b[0;34m:\u001b[0m\u001b[0;34m\u001b[0m\u001b[0;34m\u001b[0m\u001b[0m\n\u001b[0m\u001b[1;32m      3\u001b[0m         \u001b[0;32mfor\u001b[0m \u001b[0medge\u001b[0m \u001b[0;32min\u001b[0m \u001b[0mdag\u001b[0m\u001b[0;34m.\u001b[0m\u001b[0medges\u001b[0m\u001b[0;34m(\u001b[0m\u001b[0;34m)\u001b[0m\u001b[0;34m:\u001b[0m\u001b[0;34m\u001b[0m\u001b[0;34m\u001b[0m\u001b[0m\n\u001b[1;32m      4\u001b[0m             \u001b[0mf\u001b[0m\u001b[0;34m.\u001b[0m\u001b[0mwrite\u001b[0m\u001b[0;34m(\u001b[0m\u001b[0;34m\"{}, {}\\n\"\u001b[0m\u001b[0;34m.\u001b[0m\u001b[0mformat\u001b[0m\u001b[0;34m(\u001b[0m\u001b[0medge\u001b[0m\u001b[0;34m[\u001b[0m\u001b[0;36m0\u001b[0m\u001b[0;34m]\u001b[0m\u001b[0;34m,\u001b[0m \u001b[0medge\u001b[0m\u001b[0;34m[\u001b[0m\u001b[0;36m1\u001b[0m\u001b[0;34m]\u001b[0m\u001b[0;34m)\u001b[0m\u001b[0;34m)\u001b[0m\u001b[0;34m\u001b[0m\u001b[0;34m\u001b[0m\u001b[0m\n",
      "\u001b[0;31mFileNotFoundError\u001b[0m: [Errno 2] No such file or directory: '~/Desktop/CS 238/AA228-CS238-Student/project1/small.gph'"
     ]
    }
   ],
   "source": [
    "outfile = 'small.gph'\n",
    "write_gph(G, outfile)"
   ]
  },
  {
   "cell_type": "code",
   "execution_count": null,
   "metadata": {},
   "outputs": [],
   "source": []
  }
 ]
}